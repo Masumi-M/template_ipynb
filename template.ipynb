{
  "nbformat": 4,
  "nbformat_minor": 0,
  "metadata": {
    "kernelspec": {
      "display_name": "Python 3",
      "language": "python",
      "name": "python3"
    },
    "language_info": {
      "codemirror_mode": {
        "name": "ipython",
        "version": 3
      },
      "file_extension": ".py",
      "mimetype": "text/x-python",
      "name": "python",
      "nbconvert_exporter": "python",
      "pygments_lexer": "ipython3",
      "version": "3.6.5"
    },
    "colab": {
      "name": "template.ipynb",
      "provenance": [],
      "collapsed_sections": [],
      "toc_visible": true
    }
  },
  "cells": [
    {
      "cell_type": "code",
      "metadata": {
        "cellView": "form",
        "id": "fReKgB1u37NE"
      },
      "source": [
        "# @title README\n",
        "author = 'Masumi Morishige' #@param {type: \"string\"}\n",
        "created_at = '2021/09/11' #@param{type: \"date\"}\n",
        "updated_at = '2021/09/11' #@param{type: \"date\"}\n",
        "description = 'Data analysis pipeline of xxx.' #@param{type: \"string\"}"
      ],
      "execution_count": 1,
      "outputs": []
    },
    {
      "cell_type": "markdown",
      "metadata": {
        "id": "LhqKogAq3sYH"
      },
      "source": [
        "# 1. Setup"
      ]
    },
    {
      "cell_type": "code",
      "metadata": {
        "cellView": "form",
        "id": "Q5upR4g1okyP"
      },
      "source": [
        "# @title Import Basic Library\n",
        "numpy_as_np = True #@param {type: \"boolean\"}\n",
        "pandas_as_pd = True #@param {type: \"boolean\"}\n",
        "matplot_as_plt = True #@param {type: \"boolean\"}\n",
        "seaborn_as_sns =True #@param {type: \"boolean\"}\n",
        "\n",
        "if numpy_as_np: import numpy as np\n",
        "if pandas_as_pd: import pandas as pd\n",
        "if matplot_as_plt:\n",
        "  %matplotlib inline\n",
        "  import matplotlib.pyplot as plt\n",
        "  from matplotlib.figure import Figure\n",
        "if seaborn_as_sns: import seaborn as sns\n",
        "\n",
        "# @markdown (default import: `os`, `sys`, `datetime`, `display`, `json`, `pathlib`, `pickle`, `Error`)\n",
        "import datetime\n",
        "import os\n",
        "import sys\n",
        "import time\n",
        "from IPython.display import display\n",
        "import json\n",
        "import pathlib\n",
        "import pickle\n",
        "from shutil import Error"
      ],
      "execution_count": 2,
      "outputs": []
    },
    {
      "cell_type": "code",
      "metadata": {
        "cellView": "form",
        "id": "MEsbw_qH3oKY"
      },
      "source": [
        "# @title Google Colab Settings\n",
        "# @markdown - data table\n",
        "%load_ext google.colab.data_table\n",
        "# %unload_ext google.colab.data_table # If you want to cancel\n",
        "\n",
        "# @markdown - retina figure\n",
        "%config InlineBackend.figure_format = 'retina'"
      ],
      "execution_count": 3,
      "outputs": []
    },
    {
      "cell_type": "code",
      "metadata": {
        "cellView": "form",
        "id": "CoUZNRHdqZDh"
      },
      "source": [
        "# @title Japanese Fonts\n",
        "japanese_bool = False #@param {type:\"boolean\"}\n",
        "if japanese_bool:\n",
        "  !pip install japanize-matplotlib\n",
        "  import japanize_matplotlib"
      ],
      "execution_count": 4,
      "outputs": []
    },
    {
      "cell_type": "code",
      "metadata": {
        "id": "m1PFV_pUokyT",
        "cellView": "form"
      },
      "source": [
        "# @title Matplotlib Style\n",
        "mplstyle_file_path = 'https://raw.githubusercontent.com/Masumi-M/template_ipynb/main/my_style.mplstyle' #@param {type: \"string\"}\n",
        "if matplot_as_plt: plt.style.use(mplstyle_file_path)"
      ],
      "execution_count": 5,
      "outputs": []
    },
    {
      "cell_type": "code",
      "metadata": {
        "cellView": "form",
        "id": "VNZC4tuOokyT"
      },
      "source": [
        "# @title Helper Functions\n",
        "# @markdown - make_dir(dir_name: str) -> None\n",
        "def make_dir(dir_name: str) -> None:\n",
        "    \"\"\"make_dir function\n",
        "\n",
        "    Args:\n",
        "        dir_name (str): directory name which you want to make\n",
        "\n",
        "    Examples:\n",
        "        >>> make_dir(\"./data\")\n",
        "    \"\"\"\n",
        "    if not os.path.exists(dir_name):\n",
        "        os.makedirs(dir_name)\n",
        "\n",
        "# @markdown - def date_now() -> str\n",
        "def date_now() -> str:\n",
        "    \"\"\"date_now function\n",
        "\n",
        "    Returns:\n",
        "        str: date info in string style\n",
        "\n",
        "    Examples:\n",
        "        >>> print(date_now())\n",
        "        20210523_113015\n",
        "    \"\"\"\n",
        "    now = datetime.datetime.now()\n",
        "    return \"{0:%Y%m%d_%H%M%S}\".format(now)\n",
        "\n",
        "# @markdown - def save_figure(fig: Figure, file_name_with_path: str, custom_dpi: int = 100) -> None\n",
        "def save_figure(fig: Figure,\n",
        "                file_name_with_path: str,\n",
        "                custom_dpi: int = 100) -> None:\n",
        "    \"\"\"save_figure function\n",
        "\n",
        "    Args:\n",
        "        fig (Figure): figure data that you want to save,\n",
        "        file_name_with_path (str): file name with path,\n",
        "        custom_dpi (int): custom dpi value\n",
        "\n",
        "    Examples:\n",
        "        >>> save_figure(fig, \"./data/sample.png\", 200)\n",
        "    \"\"\"\n",
        "    make_dir(os.path.dirname(file_name_with_path))\n",
        "    fig.savefig(file_name_with_path, dpi=custom_dpi, pad_inches='tight')\n",
        "\n",
        "# @markdown - add_ending_slash(directory: str) -> str\n",
        "def add_ending_slash(directory: str) -> str:\n",
        "    \"\"\"add_ending_slash function\n",
        "    Args:\n",
        "        directory (str): directory that you want to add ending slash\n",
        "    Returns:\n",
        "        str: directory name with slash at the end\n",
        "    Examples:\n",
        "        >>> add_ending_slash(\"./data\")\n",
        "        \"./data/\"\n",
        "    \"\"\"\n",
        "    if directory[-1] != \"/\":\n",
        "        directory = directory + \"/\"\n",
        "    return directory\n",
        "\n",
        "# @markdown - def load_pickle(file_name_with_path: str) -> object\n",
        "def load_pickle(file_name_with_path: str) -> object:\n",
        "    \"\"\"load_pickle function\n",
        "    Args:\n",
        "        file_name_with_path (str): file name of the pickle\n",
        "    Returns:\n",
        "        object: the variable data that you want to load\n",
        "    Examples:\n",
        "        >>> eeg_class = load_pickle('eeg_class.pkl')\n",
        "    \"\"\"\n",
        "    try:\n",
        "        with open(file_name_with_path, 'rb') as f:\n",
        "            return pickle.load(f)\n",
        "    except:\n",
        "        print(\"Failed to load \" + file_name_with_path)\n",
        "        return Error()\n",
        "\n",
        "# @markdown - def save_pickle(file_name_with_path: str, save_data: object) -> None:\n",
        "def save_pickle(file_name_with_path: str, save_data: object) -> None:\n",
        "    \"\"\"save_pickle function\n",
        "    Args:\n",
        "        file_name_with_path (str): file name of the pickle with path,\n",
        "        save_data (object): the variable data that you want to save\n",
        "    Examples:\n",
        "        >>> save_pickle('./data/eeg_class.pkl', eeg_class)\n",
        "    \"\"\"\n",
        "    make_dir(os.path.dirname(file_name_with_path))\n",
        "    try:\n",
        "        with open(file_name_with_path, 'wb') as f:\n",
        "            pickle.dump(save_data, f)\n",
        "    except:\n",
        "        print(\"Failed to save \" + file_name_with_path)\n",
        "\n",
        "# @markdown - def read_json(file_name_with_path: str) -> dict:\n",
        "def read_json(file_name_with_path: str) -> dict:\n",
        "    \"\"\"read_json function\n",
        "    Args:\n",
        "        file_name_with_path (string): file name of json with path\n",
        "    Returns:\n",
        "        dict: json dict data\n",
        "    Examples:\n",
        "        >>> print(read_json(\"./name.json\"))\n",
        "        {name: \"Masumi\"}\n",
        "    \"\"\"\n",
        "    json_open = open(file_name_with_path, 'r')\n",
        "    return json.load(json_open)"
      ],
      "execution_count": 6,
      "outputs": []
    },
    {
      "cell_type": "code",
      "metadata": {
        "cellView": "form",
        "id": "c9fbtnOw_Gvx"
      },
      "source": [
        "# @title Set Parameter\n",
        "verbose = True #@param {type: \"boolean\"}\n",
        "head_display_num = 10 #@param {type: \"integer\"}"
      ],
      "execution_count": 7,
      "outputs": []
    },
    {
      "cell_type": "markdown",
      "metadata": {
        "id": "2izECZRc_ek7"
      },
      "source": [
        "# 2. Load Data"
      ]
    },
    {
      "cell_type": "code",
      "metadata": {
        "id": "MsEtQdvtokyU"
      },
      "source": [
        "# Load Data\n"
      ],
      "execution_count": 8,
      "outputs": []
    },
    {
      "cell_type": "markdown",
      "metadata": {
        "id": "zn1mKk6O_vBt"
      },
      "source": [
        "# 3. Main Analysis"
      ]
    },
    {
      "cell_type": "code",
      "metadata": {
        "id": "KXGA917-_xeJ"
      },
      "source": [
        "# Main Analysis\n"
      ],
      "execution_count": 9,
      "outputs": []
    },
    {
      "cell_type": "markdown",
      "metadata": {
        "id": "GJqxLpN9_6S8"
      },
      "source": [
        "# 4. End of Code"
      ]
    },
    {
      "cell_type": "code",
      "metadata": {
        "id": "JhOjsrigokyW",
        "colab": {
          "base_uri": "https://localhost:8080/"
        },
        "outputId": "24ddb9e0-ad81-4bf6-8bce-02c1ebb41959"
      },
      "source": [
        "print(\"End of Code.\")"
      ],
      "execution_count": 10,
      "outputs": [
        {
          "output_type": "stream",
          "name": "stdout",
          "text": [
            "End of Code.\n"
          ]
        }
      ]
    }
  ]
}